{
 "cells": [
  {
   "cell_type": "code",
   "execution_count": 7,
   "id": "74f32a4b",
   "metadata": {},
   "outputs": [
    {
     "name": "stdout",
     "output_type": "stream",
     "text": [
      "Number of odd numbers is 6\n",
      "Number of even numbers is 7\n"
     ]
    }
   ],
   "source": [
    "given_no = (0,1,2,3,4,5,6,7,8,9,10,11,12)\n",
    "odd = 0\n",
    "even = 0\n",
    "for i in given_no:\n",
    "    if not i%2 == 0:\n",
    "        odd += 1\n",
    "    else:\n",
    "        even += 1\n",
    "print(\"Number of odd numbers is\", odd)\n",
    "print(\"Number of even numbers is\", even)\n",
    "    "
   ]
  },
  {
   "cell_type": "code",
   "execution_count": null,
   "id": "e4661fb5",
   "metadata": {},
   "outputs": [],
   "source": []
  }
 ],
 "metadata": {
  "kernelspec": {
   "display_name": "Python 3 (ipykernel)",
   "language": "python",
   "name": "python3"
  },
  "language_info": {
   "codemirror_mode": {
    "name": "ipython",
    "version": 3
   },
   "file_extension": ".py",
   "mimetype": "text/x-python",
   "name": "python",
   "nbconvert_exporter": "python",
   "pygments_lexer": "ipython3",
   "version": "3.10.6"
  }
 },
 "nbformat": 4,
 "nbformat_minor": 5
}
